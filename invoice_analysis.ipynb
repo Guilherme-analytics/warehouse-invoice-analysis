{
 "cells": [
  {
   "cell_type": "markdown",
   "id": "e8f4f305",
   "metadata": {},
   "source": [
    "# Invoice Receipt Analysis - Warehouse Project\n",
    "This notebook demonstrates a basic analysis of invoice receipts in a warehouse.\n",
    "It includes data loading, summary statistics, and simple visualizations."
   ]
  },
  {
   "cell_type": "code",
   "execution_count": null,
   "id": "24cd2830",
   "metadata": {},
   "outputs": [],
   "source": [
    "# Import necessary libraries\n",
    "import pandas as pd\n",
    "import matplotlib.pyplot as plt\n",
    "import seaborn as sns\n",
    "\n",
    "sns.set(style='whitegrid')"
   ]
  },
  {
   "cell_type": "code",
   "execution_count": null,
   "id": "52a94942",
   "metadata": {},
   "outputs": [],
   "source": [
    "# Load the dataset\n",
    "df = pd.read_csv('invoices_received.csv', parse_dates=['Issue_Date', 'Receipt_Date'])\n",
    "df.head()"
   ]
  },
  {
   "cell_type": "markdown",
   "id": "5ce01cdd",
   "metadata": {},
   "source": [
    "## Summary Statistics\n",
    "We can check basic statistics of the dataset to understand it better."
   ]
  },
  {
   "cell_type": "code",
   "execution_count": null,
   "id": "11ca72a0",
   "metadata": {},
   "outputs": [],
   "source": [
    "# Summary statistics\n",
    "df.describe(include='all')"
   ]
  },
  {
   "cell_type": "markdown",
   "id": "5a51b446",
   "metadata": {},
   "source": [
    "## Number of On Time vs Late Invoices"
   ]
  },
  {
   "cell_type": "code",
   "execution_count": null,
   "id": "553513d0",
   "metadata": {},
   "outputs": [],
   "source": [
    "# Count of On Time vs Late invoices\n",
    "status_counts = df['Status'].value_counts()\n",
    "plt.figure(figsize=(6,4))\n",
    "sns.barplot(x=status_counts.index, y=status_counts.values, palette='viridis')\n",
    "plt.title('Number of On Time vs Late Invoices')\n",
    "plt.ylabel('Count')\n",
    "plt.show()"
   ]
  },
  {
   "cell_type": "markdown",
   "id": "6e18405e",
   "metadata": {},
   "source": [
    "## Total Value by Supplier"
   ]
  },
  {
   "cell_type": "code",
   "execution_count": null,
   "id": "eb600f8d",
   "metadata": {},
   "outputs": [],
   "source": [
    "# Total value per supplier\n",
    "supplier_values = df.groupby('Supplier')['Value'].sum().sort_values(ascending=False)\n",
    "plt.figure(figsize=(6,4))\n",
    "sns.barplot(x=supplier_values.index, y=supplier_values.values, palette='magma')\n",
    "plt.title('Total Invoice Value by Supplier')\n",
    "plt.ylabel('Total Value')\n",
    "plt.show()"
   ]
  },
  {
   "cell_type": "markdown",
   "id": "334197de",
   "metadata": {},
   "source": [
    "## Average Receipt Time\n",
    "Calculate the average number of days between issue and receipt."
   ]
  },
  {
   "cell_type": "code",
   "execution_count": null,
   "id": "6c853a84",
   "metadata": {},
   "outputs": [],
   "source": [
    "# Average receipt days\n",
    "avg_days = df['Receipt_Days'].mean()\n",
    "print(f'Average receipt time: {avg_days:.2f} days')"
   ]
  }
 ],
 "metadata": {},
 "nbformat": 4,
 "nbformat_minor": 5
}
